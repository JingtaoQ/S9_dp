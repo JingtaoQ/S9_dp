{
  "nbformat": 4,
  "nbformat_minor": 0,
  "metadata": {
    "colab": {
      "provenance": []
    },
    "kernelspec": {
      "name": "python3",
      "display_name": "Python 3"
    },
    "language_info": {
      "name": "python"
    }
  },
  "cells": [
    {
      "cell_type": "markdown",
      "source": [
        "Exe 1"
      ],
      "metadata": {
        "id": "MLAFsND2fcN_"
      }
    },
    {
      "cell_type": "code",
      "execution_count": 1,
      "metadata": {
        "id": "VrQUximzvJe1"
      },
      "outputs": [],
      "source": [
        "from random import seed \n",
        "from random import random\n",
        "\n",
        "# Initialize a network\n",
        "def initialize_network(n_inputs, n_hidden_1,n_hidden_2,n_hidden_3, n_outputs):\n",
        "\n",
        "\tnetwork = list()\n",
        "\thidden_layer_1 = [{'weights':[round(random(),1) for i in range(n_inputs + 1)]} for i in range(n_hidden_1)]\n",
        "\tnetwork.append(hidden_layer_1)\n",
        " \n",
        "\thidden_layer_2 = [{'weights':[round(random(),1) for i in range(n_hidden_1 + 1)]} for i in range(n_hidden_2)]\n",
        "\tnetwork.append(hidden_layer_2)\n",
        " \n",
        "\thidden_layer_3 = [{'weights':[round(random(),1) for i in range(n_hidden_2 + 1)]} for i in range(n_hidden_3)]\n",
        "\tnetwork.append(hidden_layer_3)\n",
        " \n",
        "\toutput_layer = [{'weights':[round(random(),1) for i in range(n_hidden_3 + 1)]} for i in range(n_outputs)]\n",
        "\tnetwork.append(output_layer)\n",
        " \n",
        "\treturn network"
      ]
    },
    {
      "cell_type": "code",
      "source": [
        "def write(network):\n",
        "  for i in range(len(network)):\n",
        "    layer = network[i]\n",
        "    print('layer :',i+1,'\\n')\n",
        "    for neuron in layer:\n",
        "\t    print(neuron,'\\n')"
      ],
      "metadata": {
        "id": "87V6BalFvK15"
      },
      "execution_count": 2,
      "outputs": []
    },
    {
      "cell_type": "code",
      "source": [
        "network = initialize_network(2,3,4,5,6)\n",
        "write(network)"
      ],
      "metadata": {
        "colab": {
          "base_uri": "https://localhost:8080/"
        },
        "id": "SdoAvDe3vN8e",
        "outputId": "3265f65f-0894-4be4-c3f8-4dc301815480"
      },
      "execution_count": 3,
      "outputs": [
        {
          "output_type": "stream",
          "name": "stdout",
          "text": [
            "layer : 1 \n",
            "\n",
            "{'weights': [0.9, 0.2, 0.5]} \n",
            "\n",
            "{'weights': [0.9, 0.1, 1.0]} \n",
            "\n",
            "{'weights': [0.2, 0.6, 0.5]} \n",
            "\n",
            "layer : 2 \n",
            "\n",
            "{'weights': [0.1, 0.5, 0.9, 0.3]} \n",
            "\n",
            "{'weights': [0.5, 0.8, 0.5, 0.8]} \n",
            "\n",
            "{'weights': [0.5, 0.4, 0.3, 0.7]} \n",
            "\n",
            "{'weights': [0.1, 0.1, 0.4, 0.7]} \n",
            "\n",
            "layer : 3 \n",
            "\n",
            "{'weights': [0.2, 0.7, 0.9, 0.4, 0.4]} \n",
            "\n",
            "{'weights': [0.9, 0.4, 0.4, 0.3, 0.8]} \n",
            "\n",
            "{'weights': [0.7, 0.2, 0.8, 0.4, 0.4]} \n",
            "\n",
            "{'weights': [0.9, 0.5, 0.0, 0.8, 0.7]} \n",
            "\n",
            "{'weights': [0.4, 0.4, 0.7, 0.9, 0.7]} \n",
            "\n",
            "layer : 4 \n",
            "\n",
            "{'weights': [0.4, 0.2, 0.1, 0.8, 0.2, 0.5]} \n",
            "\n",
            "{'weights': [0.6, 0.5, 0.5, 0.5, 1.0, 0.6]} \n",
            "\n",
            "{'weights': [0.9, 0.8, 1.0, 0.5, 0.7, 0.3]} \n",
            "\n",
            "{'weights': [0.4, 0.6, 0.3, 0.7, 0.2, 0.1]} \n",
            "\n",
            "{'weights': [0.0, 0.2, 0.3, 0.5, 0.7, 0.8]} \n",
            "\n",
            "{'weights': [0.3, 0.8, 0.9, 0.4, 0.9, 0.7]} \n",
            "\n"
          ]
        }
      ]
    },
    {
      "cell_type": "markdown",
      "source": [
        "Exe2"
      ],
      "metadata": {
        "id": "a8Ds5epGff_o"
      }
    },
    {
      "cell_type": "code",
      "source": [
        "seed(1)\n",
        "network = initialize_network(3,3,3, 2,2)\n",
        "write(network)"
      ],
      "metadata": {
        "id": "nYg0NRa5wif-",
        "colab": {
          "base_uri": "https://localhost:8080/"
        },
        "outputId": "cd37a79b-a533-439e-bae7-525b7f23bb54"
      },
      "execution_count": 4,
      "outputs": [
        {
          "output_type": "stream",
          "name": "stdout",
          "text": [
            "layer : 1 \n",
            "\n",
            "{'weights': [0.1, 0.8, 0.8, 0.3]} \n",
            "\n",
            "{'weights': [0.5, 0.4, 0.7, 0.8]} \n",
            "\n",
            "{'weights': [0.1, 0.0, 0.8, 0.4]} \n",
            "\n",
            "layer : 2 \n",
            "\n",
            "{'weights': [0.8, 0.0, 0.4, 0.7]} \n",
            "\n",
            "{'weights': [0.2, 0.9, 0.9, 0.0]} \n",
            "\n",
            "{'weights': [0.0, 0.5, 0.9, 0.4]} \n",
            "\n",
            "layer : 3 \n",
            "\n",
            "{'weights': [0.2, 0.4, 0.0, 0.2]} \n",
            "\n",
            "{'weights': [0.4, 0.5, 0.2, 0.2]} \n",
            "\n",
            "layer : 4 \n",
            "\n",
            "{'weights': [0.2, 0.5, 0.3]} \n",
            "\n",
            "{'weights': [0.0, 0.8, 0.6]} \n",
            "\n"
          ]
        }
      ]
    },
    {
      "cell_type": "markdown",
      "source": [
        "Exe3"
      ],
      "metadata": {
        "id": "3x97trmlfjom"
      }
    },
    {
      "cell_type": "code",
      "source": [
        "# Calculate neuron activation for an input #this is the in function\n",
        "def activate(weights, inputs):\n",
        "\tactivation = weights[-1]\n",
        "\tfor i in range(len(weights)-1):\n",
        "\t\tactivation += weights[i] * inputs[i]\n",
        "\treturn activation"
      ],
      "metadata": {
        "id": "W_iovis703ii"
      },
      "execution_count": 5,
      "outputs": []
    },
    {
      "cell_type": "code",
      "source": [
        "weights=[3.0, 5.0,2]\n",
        "inputs = [-1,1]\n",
        "activate(weights, inputs)"
      ],
      "metadata": {
        "colab": {
          "base_uri": "https://localhost:8080/"
        },
        "id": "q350ryY51NAZ",
        "outputId": "1412c42f-da06-48a2-d81d-965072f261cf"
      },
      "execution_count": 6,
      "outputs": [
        {
          "output_type": "execute_result",
          "data": {
            "text/plain": [
              "4.0"
            ]
          },
          "metadata": {},
          "execution_count": 6
        }
      ]
    },
    {
      "cell_type": "markdown",
      "source": [
        "Exe4"
      ],
      "metadata": {
        "id": "czP07383fl0w"
      }
    },
    {
      "cell_type": "code",
      "source": [
        "from math import exp\n",
        "# Transfer neuron activation\n",
        "def transfer(activation):\n",
        "\treturn 1.0 / (1.0 + exp(-activation))\n",
        "\n",
        "transfer(0.6)"
      ],
      "metadata": {
        "id": "IRlJlq6p2Q9V",
        "colab": {
          "base_uri": "https://localhost:8080/"
        },
        "outputId": "057f9ee8-ba6a-4b5b-8a4a-5269d0f77926"
      },
      "execution_count": 7,
      "outputs": [
        {
          "output_type": "execute_result",
          "data": {
            "text/plain": [
              "0.6456563062257954"
            ]
          },
          "metadata": {},
          "execution_count": 7
        }
      ]
    },
    {
      "cell_type": "markdown",
      "source": [
        "Exe 5"
      ],
      "metadata": {
        "id": "cCLMc9X-foFa"
      }
    },
    {
      "cell_type": "code",
      "source": [
        "# Forward propagate input to a network output\n",
        "def forward_propagate(network, row):\n",
        "\tinputs = row\n",
        "\tfor layer in network:\n",
        "\t\tnew_inputs = []\n",
        "\t\tfor neuron in layer:\n",
        "\t\t\tactivation = activate(neuron['weights'], inputs)\n",
        "\t\t\tneuron['output'] = transfer(activation)\n",
        "\t\t\tnew_inputs.append(neuron['output'])\n",
        "\t\tinputs = new_inputs\n",
        "\treturn inputs"
      ],
      "metadata": {
        "id": "1Rxn3uOV3ivd"
      },
      "execution_count": 8,
      "outputs": []
    },
    {
      "cell_type": "markdown",
      "source": [
        "Exe 6"
      ],
      "metadata": {
        "id": "YBsKlLZkfrF3"
      }
    },
    {
      "cell_type": "code",
      "source": [
        "# test forward propagation\n",
        "network = initialize_network(2, 2,2,3,3)\n",
        "print('######Before#########')\n",
        "write(network)\n",
        "row = [1, 0]\n",
        "output = forward_propagate(network, row)\n",
        "print('######After#########')\n",
        "write(network)\n",
        "\n",
        "print('#####output##########')\n",
        "print('output:',output,'\\n')"
      ],
      "metadata": {
        "id": "daLkMNE64LCK",
        "colab": {
          "base_uri": "https://localhost:8080/"
        },
        "outputId": "fe887d72-6b70-4114-e756-4abdeb959223"
      },
      "execution_count": 9,
      "outputs": [
        {
          "output_type": "stream",
          "name": "stdout",
          "text": [
            "######Before#########\n",
            "layer : 1 \n",
            "\n",
            "{'weights': [0.6, 0.2, 1.0]} \n",
            "\n",
            "{'weights': [0.9, 0.1, 0.3]} \n",
            "\n",
            "layer : 2 \n",
            "\n",
            "{'weights': [0.7, 0.7, 0.9]} \n",
            "\n",
            "{'weights': [0.4, 0.8, 0.7]} \n",
            "\n",
            "layer : 3 \n",
            "\n",
            "{'weights': [0.3, 0.6, 0.9]} \n",
            "\n",
            "{'weights': [0.8, 0.5, 0.6]} \n",
            "\n",
            "{'weights': [0.0, 0.2, 0.8]} \n",
            "\n",
            "layer : 4 \n",
            "\n",
            "{'weights': [0.4, 0.2, 0.5, 0.7]} \n",
            "\n",
            "{'weights': [0.7, 0.4, 0.4, 0.5]} \n",
            "\n",
            "{'weights': [0.8, 0.5, 0.4, 0.5]} \n",
            "\n",
            "######After#########\n",
            "layer : 1 \n",
            "\n",
            "{'weights': [0.6, 0.2, 1.0], 'output': 0.8320183851339245} \n",
            "\n",
            "{'weights': [0.9, 0.1, 0.3], 'output': 0.7685247834990175} \n",
            "\n",
            "layer : 2 \n",
            "\n",
            "{'weights': [0.7, 0.7, 0.9], 'output': 0.8829203187577188} \n",
            "\n",
            "{'weights': [0.4, 0.8, 0.7], 'output': 0.8385700992040224} \n",
            "\n",
            "layer : 3 \n",
            "\n",
            "{'weights': [0.3, 0.6, 0.9], 'output': 0.841311410884914} \n",
            "\n",
            "{'weights': [0.8, 0.5, 0.6], 'output': 0.8488514797943914} \n",
            "\n",
            "{'weights': [0.0, 0.2, 0.8], 'output': 0.7246636190493327} \n",
            "\n",
            "layer : 4 \n",
            "\n",
            "{'weights': [0.4, 0.2, 0.5, 0.7], 'output': 0.8275877410538589} \n",
            "\n",
            "{'weights': [0.7, 0.4, 0.4, 0.5], 'output': 0.847912834483532} \n",
            "\n",
            "{'weights': [0.8, 0.5, 0.4, 0.5], 'output': 0.8684519775854913} \n",
            "\n",
            "#####output##########\n",
            "output: [0.8275877410538589, 0.847912834483532, 0.8684519775854913] \n",
            "\n"
          ]
        }
      ]
    },
    {
      "cell_type": "markdown",
      "source": [
        "Exe 7"
      ],
      "metadata": {
        "id": "7Xmai98FfxvO"
      }
    },
    {
      "cell_type": "code",
      "source": [
        "# Calculate the derivative of an neuron output\n",
        "def transfer_derivative(output):\n",
        "\treturn output * (1.0 - output)"
      ],
      "metadata": {
        "id": "jVgIw-uek_pH"
      },
      "execution_count": 10,
      "outputs": []
    },
    {
      "cell_type": "markdown",
      "source": [
        "Exe 8"
      ],
      "metadata": {
        "id": "l1UkucIrf0J1"
      }
    },
    {
      "cell_type": "code",
      "source": [
        "# Backpropagate error and store in neurons\n",
        "def backward_propagate_error(network, expected):\n",
        "\tfor i in reversed(range(len(network))):\n",
        "\t\tlayer = network[i]\n",
        "\t\terrors = list()\n",
        "\t\tif i != len(network)-1:\n",
        "\t\t\tfor j in range(len(layer)):\n",
        "\t\t\t\terror = 0.0\n",
        "\t\t\t\tfor neuron in network[i + 1]:\n",
        "\t\t\t\t\terror += (neuron['weights'][j] * neuron['delta'])\n",
        "\t\t\t\terrors.append(error)\n",
        "\t\telse:\n",
        "\t\t\tfor j in range(len(layer)):\n",
        "\t\t\t\tneuron = layer[j]\n",
        "\t\t\t\terrors.append(expected[j] - neuron['output'])\n",
        "\t\tfor j in range(len(layer)):\n",
        "\t\t\tneuron = layer[j]\n",
        "\t\t\tneuron['delta'] = errors[j] * transfer_derivative(neuron['output'])"
      ],
      "metadata": {
        "id": "v3JYWw-QmJWh"
      },
      "execution_count": 11,
      "outputs": []
    },
    {
      "cell_type": "markdown",
      "source": [
        "Exe 9"
      ],
      "metadata": {
        "id": "w5XvRRQEf2yO"
      }
    },
    {
      "cell_type": "code",
      "source": [
        "# test backpropagation of error\n",
        "expected = [0, 1,2,3]\n",
        "print('######Before#########')\n",
        "write(network)\n",
        "backward_propagate_error(network, expected)\n",
        "print('######After#########')\n",
        "write(network)"
      ],
      "metadata": {
        "colab": {
          "base_uri": "https://localhost:8080/"
        },
        "id": "VP8qi_9GXhiS",
        "outputId": "930a28db-4e4c-4d48-bcdc-afe428abcbbd"
      },
      "execution_count": 14,
      "outputs": [
        {
          "output_type": "stream",
          "name": "stdout",
          "text": [
            "######Before#########\n",
            "layer : 1 \n",
            "\n",
            "{'weights': [0.6, 0.2, 1.0], 'output': 0.8320183851339245} \n",
            "\n",
            "{'weights': [0.9, 0.1, 0.3], 'output': 0.7685247834990175} \n",
            "\n",
            "layer : 2 \n",
            "\n",
            "{'weights': [0.7, 0.7, 0.9], 'output': 0.8829203187577188} \n",
            "\n",
            "{'weights': [0.4, 0.8, 0.7], 'output': 0.8385700992040224} \n",
            "\n",
            "layer : 3 \n",
            "\n",
            "{'weights': [0.3, 0.6, 0.9], 'output': 0.841311410884914} \n",
            "\n",
            "{'weights': [0.8, 0.5, 0.6], 'output': 0.8488514797943914} \n",
            "\n",
            "{'weights': [0.0, 0.2, 0.8], 'output': 0.7246636190493327} \n",
            "\n",
            "layer : 4 \n",
            "\n",
            "{'weights': [0.4, 0.2, 0.5, 0.7], 'output': 0.8275877410538589} \n",
            "\n",
            "{'weights': [0.7, 0.4, 0.4, 0.5], 'output': 0.847912834483532} \n",
            "\n",
            "{'weights': [0.8, 0.5, 0.4, 0.5], 'output': 0.8684519775854913} \n",
            "\n",
            "######After#########\n",
            "layer : 1 \n",
            "\n",
            "{'weights': [0.6, 0.2, 1.0], 'output': 0.8320183851339245, 'delta': 0.00014530151914675618} \n",
            "\n",
            "{'weights': [0.9, 0.1, 0.3], 'output': 0.7685247834990175, 'delta': 0.0002692796147689473} \n",
            "\n",
            "layer : 2 \n",
            "\n",
            "{'weights': [0.7, 0.7, 0.9], 'output': 0.8829203187577188, 'delta': 0.0008079137037114934} \n",
            "\n",
            "{'weights': [0.4, 0.8, 0.7], 'output': 0.8385700992040224, 'delta': 0.0011852061302957042} \n",
            "\n",
            "layer : 3 \n",
            "\n",
            "{'weights': [0.3, 0.6, 0.9], 'output': 0.841311410884914, 'delta': 0.009333704238678738} \n",
            "\n",
            "{'weights': [0.8, 0.5, 0.6], 'output': 0.8488514797943914, 'delta': 0.006269352084222111} \n",
            "\n",
            "{'weights': [0.0, 0.2, 0.8], 'output': 0.7246636190493327, 'delta': 0.00010195715204538995} \n",
            "\n",
            "layer : 4 \n",
            "\n",
            "{'weights': [0.4, 0.2, 0.5, 0.7], 'output': 0.8275877410538589, 'delta': -0.1180854094504114} \n",
            "\n",
            "{'weights': [0.7, 0.4, 0.4, 0.5], 'output': 0.847912834483532, 'delta': 0.019612652833284592} \n",
            "\n",
            "{'weights': [0.8, 0.5, 0.4, 0.5], 'output': 0.8684519775854913, 'delta': 0.129271599382829} \n",
            "\n"
          ]
        }
      ]
    },
    {
      "cell_type": "markdown",
      "source": [
        "Exe 10"
      ],
      "metadata": {
        "id": "1J_jgwvUf5h8"
      }
    },
    {
      "cell_type": "code",
      "source": [
        "# Update network weights with error\n",
        "def update_weights(network, row, l_rate):\n",
        "\tfor i in range(len(network)):\n",
        "\t\tinputs = row[:-1]\n",
        "\t\tif i != 0:\n",
        "\t\t\tinputs = [neuron['output'] for neuron in network[i - 1]]\n",
        "\t\tfor neuron in network[i]:\n",
        "\t\t\tfor j in range(len(inputs)):\n",
        "\t\t\t\tneuron['weights'][j] += l_rate * neuron['delta'] * inputs[j]\n",
        "\t\t\tneuron['weights'][-1] += l_rate * neuron['delta']"
      ],
      "metadata": {
        "id": "Ak-1MFnQXkD8"
      },
      "execution_count": 15,
      "outputs": []
    },
    {
      "cell_type": "markdown",
      "source": [
        "Exe 11"
      ],
      "metadata": {
        "id": "9lqSQE3Xf72t"
      }
    },
    {
      "cell_type": "code",
      "source": [
        "# Train a network for a fixed number of epochs\n",
        "def train_network(network, train, l_rate, n_epoch, n_outputs):\n",
        "\tfor epoch in range(n_epoch):\n",
        "\t\tsum_error = 0\n",
        "\t\tfor row in train:\n",
        "\t\t\toutputs = forward_propagate(network, row)\n",
        "\t\t\texpected = [0 for i in range(n_outputs)]\n",
        "\t\t\texpected[row[-1]] = 1\n",
        "\t\t\tsum_error += sum([(expected[i]-outputs[i])**2 for i in range(len(expected))])\n",
        "\t\t\tbackward_propagate_error(network, expected)\n",
        "\t\t\tupdate_weights(network, row, l_rate)\n",
        "\t\tprint('>epoch=%d, lrate=%.3f, error=%.3f' % (epoch, l_rate, sum_error))"
      ],
      "metadata": {
        "id": "pQ2LRPmSYnnk"
      },
      "execution_count": 16,
      "outputs": []
    },
    {
      "cell_type": "markdown",
      "source": [
        "Exe 12"
      ],
      "metadata": {
        "id": "xgM4vS7Sf_Ny"
      }
    },
    {
      "cell_type": "code",
      "source": [
        "# Test training backprop algorithm\n",
        "#seed(1)\n",
        "dataset = [[2.7810836,2.550537003,0],\n",
        "\t[1.465489372,2.362125076,0],\n",
        "\t[3.396561688,4.400293529,0],\n",
        "\t[1.38807019,1.850220317,0],\n",
        "\t[3.06407232,3.005305973,0],\n",
        "\t[7.627531214,2.759262235,1],\n",
        "\t[5.332441248,2.088626775,1],\n",
        "\t[6.922596716,1.77106367,1],\n",
        "\t[8.675418651,-0.242068655,1],\n",
        "\t[7.673756466,3.508563011,1]]\n",
        "n_inputs = len(dataset[0]) - 1\n",
        "print(n_inputs)\n",
        "n_outputs = len(set([row[-1] for row in dataset]))\n",
        "\n",
        "print(n_outputs)\n",
        "network = initialize_network(n_inputs, 2,3,4, n_outputs)\n",
        "train_network(network, dataset, 0.5, 20, n_outputs)\n",
        "#write(network)"
      ],
      "metadata": {
        "colab": {
          "base_uri": "https://localhost:8080/"
        },
        "id": "q4KA2RpWYp2o",
        "outputId": "229df033-3c30-44a8-9e92-c81abec77094"
      },
      "execution_count": 20,
      "outputs": [
        {
          "output_type": "stream",
          "name": "stdout",
          "text": [
            "2\n",
            "2\n",
            ">epoch=0, lrate=0.500, error=7.588\n",
            ">epoch=1, lrate=0.500, error=6.133\n",
            ">epoch=2, lrate=0.500, error=5.548\n",
            ">epoch=3, lrate=0.500, error=5.499\n",
            ">epoch=4, lrate=0.500, error=5.502\n",
            ">epoch=5, lrate=0.500, error=5.505\n",
            ">epoch=6, lrate=0.500, error=5.505\n",
            ">epoch=7, lrate=0.500, error=5.505\n",
            ">epoch=8, lrate=0.500, error=5.504\n",
            ">epoch=9, lrate=0.500, error=5.503\n",
            ">epoch=10, lrate=0.500, error=5.502\n",
            ">epoch=11, lrate=0.500, error=5.501\n",
            ">epoch=12, lrate=0.500, error=5.500\n",
            ">epoch=13, lrate=0.500, error=5.499\n",
            ">epoch=14, lrate=0.500, error=5.498\n",
            ">epoch=15, lrate=0.500, error=5.497\n",
            ">epoch=16, lrate=0.500, error=5.496\n",
            ">epoch=17, lrate=0.500, error=5.495\n",
            ">epoch=18, lrate=0.500, error=5.494\n",
            ">epoch=19, lrate=0.500, error=5.493\n"
          ]
        }
      ]
    },
    {
      "cell_type": "markdown",
      "source": [
        "Exe 13"
      ],
      "metadata": {
        "id": "pzIZeiobgB-j"
      }
    },
    {
      "cell_type": "code",
      "source": [
        "# Make a prediction with a network\n",
        "def predict(network, row):\n",
        "\toutputs = forward_propagate(network, row)\n",
        "\treturn outputs.index(max(outputs))"
      ],
      "metadata": {
        "id": "DO1xDi82YtcE"
      },
      "execution_count": 21,
      "outputs": []
    },
    {
      "cell_type": "markdown",
      "source": [
        "Exe 14"
      ],
      "metadata": {
        "id": "pqcxmscTgDd2"
      }
    },
    {
      "cell_type": "code",
      "source": [
        "# Test making predictions with the network\n",
        "dataset = [[2.7810836,2.550537003,0],\n",
        "\t[1.465489372,2.362125076,0],\n",
        "\t[3.396561688,4.400293529,0],\n",
        "\t[1.38807019,1.850220317,0],\n",
        "\t[3.06407232,3.005305973,0],\n",
        "\t[7.627531214,2.759262235,1],\n",
        "\t[5.332441248,2.088626775,1],\n",
        "\t[6.922596716,1.77106367,1],\n",
        "\t[8.675418651,-0.242068655,1],\n",
        "\t[7.673756466,3.508563011,1]]\n",
        "#network = [[{'weights': [-1.482313569067226, 1.8308790073202204, 1.078381922048799]}, {'weights': [0.23244990332399884, 0.3621998343835864, 0.40289821191094327]}],\n",
        "#\t[{'weights': [2.5001872433501404, 0.7887233511355132, -1.1026649757805829]}, {'weights': [-2.429350576245497, 0.8357651039198697, 1.0699217181280656]}]]\n",
        "for row in dataset:\n",
        "\tprediction = predict(network, row)\n",
        "\tprint('Expected=%d, Got=%d' % (row[-1], prediction))"
      ],
      "metadata": {
        "colab": {
          "base_uri": "https://localhost:8080/"
        },
        "id": "gMpkyozycEkY",
        "outputId": "0433b882-419c-471e-8c6c-2f3cd03cc3b0"
      },
      "execution_count": 22,
      "outputs": [
        {
          "output_type": "stream",
          "name": "stdout",
          "text": [
            "Expected=0, Got=1\n",
            "Expected=0, Got=1\n",
            "Expected=0, Got=1\n",
            "Expected=0, Got=1\n",
            "Expected=0, Got=1\n",
            "Expected=1, Got=1\n",
            "Expected=1, Got=1\n",
            "Expected=1, Got=1\n",
            "Expected=1, Got=1\n",
            "Expected=1, Got=1\n"
          ]
        }
      ]
    },
    {
      "cell_type": "code",
      "source": [
        "%%shell\n",
        "jupyter nbconvert --to html /content/Jingtao_QU_WEEK2.ipynb"
      ],
      "metadata": {
        "colab": {
          "base_uri": "https://localhost:8080/"
        },
        "id": "HnJA99xCcIBd",
        "outputId": "5fb0a71d-778e-4ecc-fbb4-9c0c07f28597"
      },
      "execution_count": 23,
      "outputs": [
        {
          "output_type": "stream",
          "name": "stdout",
          "text": [
            "[NbConvertApp] Converting notebook /content/Jingtao_QU_WEEK2.ipynb to html\n",
            "[NbConvertApp] Writing 315647 bytes to /content/Jingtao_QU_WEEK2.html\n"
          ]
        },
        {
          "output_type": "execute_result",
          "data": {
            "text/plain": []
          },
          "metadata": {},
          "execution_count": 23
        }
      ]
    },
    {
      "cell_type": "code",
      "source": [],
      "metadata": {
        "id": "86COsE_hfCbk"
      },
      "execution_count": null,
      "outputs": []
    }
  ]
}